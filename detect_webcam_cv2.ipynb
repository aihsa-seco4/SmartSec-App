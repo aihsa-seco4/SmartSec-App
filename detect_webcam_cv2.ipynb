{
 "cells": [
  {
   "cell_type": "markdown",
   "metadata": {},
   "source": [
    "# Initialization"
   ]
  },
  {
   "cell_type": "code",
   "execution_count": 1,
   "metadata": {},
   "outputs": [],
   "source": [
    "import os\n",
    "import cv2\n",
    "import tensorflow as tf\n",
    "import numpy as np\n",
    "import matplotlib.pyplot as plt\n",
    "from object_detection.utils import label_map_util\n",
    "from object_detection.utils import visualization_utils as viz_utils\n",
    "from object_detection.builders import model_builder\n",
    "from object_detection.utils import config_util\n",
    "\n",
    "%matplotlib inline"
   ]
  },
  {
   "cell_type": "code",
   "execution_count": 3,
   "metadata": {},
   "outputs": [],
   "source": [
    "paths = {\n",
    "    'TENSORFLOW': os.path.join('Tensorflow'),\n",
    "    'WORKSPACE_PATH': os.path.join('Tensorflow', 'workspace'),\n",
    "    'APIMODEL_PATH': os.path.join('Tensorflow','models'),\n",
    "    'EXPORTED_MODEL_PATH': os.path.join('Tensorflow', 'workspace', 'exported-model'),\n",
    "    'ANNOTATION_PATH': os.path.join('Tensorflow', 'workspace','annotations'),\n",
    "    'PROTOC_PATH':os.path.join('Tensorflow','protoc')\n",
    "}\n",
    "files = {\n",
    "    'LABEL_MAP': os.path.join(paths['ANNOTATION_PATH'], \"label_map.pbtxt\"),\n",
    "    \"EXPORTED_MODEL_PIPELINE\": os.path.join(paths[\"EXPORTED_MODEL_PATH\"], \"pipeline.config\")\n",
    "}\n",
    "# labels = [\"phone\", \"pistol\", \"hand\"]\n",
    "labels = [\"pistol\"]\n",
    "for path in paths.values():\n",
    "  if not os.path.exists(path):\n",
    "    !mkdir {path}"
   ]
  },
  {
   "cell_type": "markdown",
   "metadata": {},
   "source": [
    "# label map"
   ]
  },
  {
   "cell_type": "code",
   "execution_count": 3,
   "metadata": {},
   "outputs": [
    {
     "name": "stdout",
     "output_type": "stream",
     "text": [
      "item {\n",
      "    id: 1\n",
      "    name: 'pistol'\n",
      "}\n",
      "\n"
     ]
    }
   ],
   "source": [
    "template = '''item {\n",
    "    id: $\n",
    "    name: '%'\n",
    "}\n",
    "'''\n",
    "label_map = []\n",
    "for i in range(len(labels)):\n",
    "  label_map.append(template)\n",
    "  label_map[i] = label_map[i].replace(\"$\", str(i + 1))\n",
    "  label_map[i] = label_map[i].replace(\"%\", labels[i])\n",
    "print(\"\\n\".join(label_map))\n",
    "\n",
    "with open(os.path.join(paths[\"ANNOTATION_PATH\"], \"label_map.pbtxt\"), \"w\") as f:\n",
    "  f.write(\"\\n\".join(label_map))"
   ]
  },
  {
   "cell_type": "markdown",
   "metadata": {},
   "source": [
    "# importing model"
   ]
  },
  {
   "cell_type": "code",
   "execution_count": 4,
   "metadata": {},
   "outputs": [],
   "source": [
    "model = tf.saved_model.load(os.path.join(paths[\"EXPORTED_MODEL_PATH\"], \"saved_model\"))\n",
    "category_index = label_map_util.create_category_index_from_labelmap(files['LABEL_MAP'])\n",
    "detect_fn = model.signatures['serving_default']\n"
   ]
  },
  {
   "cell_type": "markdown",
   "metadata": {},
   "source": [
    "# Detection"
   ]
  },
  {
   "cell_type": "markdown",
   "metadata": {},
   "source": [
    "--------------------------------"
   ]
  },
  {
   "cell_type": "code",
   "execution_count": 18,
   "metadata": {},
   "outputs": [
    {
     "name": "stdout",
     "output_type": "stream",
     "text": [
      "C:\\Users\\USER\\Desktop\\Cyber\\PRJ\\1.jpg\n"
     ]
    },
    {
     "ename": "error",
     "evalue": "OpenCV(4.5.5) D:\\a\\opencv-python\\opencv-python\\opencv\\modules\\imgproc\\src\\color.cpp:182: error: (-215:Assertion failed) !_src.empty() in function 'cv::cvtColor'\n",
     "output_type": "error",
     "traceback": [
      "\u001b[1;31m---------------------------------------------------------------------------\u001b[0m",
      "\u001b[1;31merror\u001b[0m                                     Traceback (most recent call last)",
      "Input \u001b[1;32mIn [18]\u001b[0m, in \u001b[0;36m<module>\u001b[1;34m\u001b[0m\n\u001b[0;32m      2\u001b[0m IMAGE_PATH \u001b[38;5;241m=\u001b[39m \u001b[38;5;124mr\u001b[39m\u001b[38;5;124m\"\u001b[39m\u001b[38;5;124mC:\u001b[39m\u001b[38;5;124m\\\u001b[39m\u001b[38;5;124mUsers\u001b[39m\u001b[38;5;124m\\\u001b[39m\u001b[38;5;124mUSER\u001b[39m\u001b[38;5;124m\\\u001b[39m\u001b[38;5;124mDesktop\u001b[39m\u001b[38;5;124m\\\u001b[39m\u001b[38;5;124mCyber\u001b[39m\u001b[38;5;124m\\\u001b[39m\u001b[38;5;124mPRJ\u001b[39m\u001b[38;5;124m\\\u001b[39m\u001b[38;5;124m1.jpg\u001b[39m\u001b[38;5;124m\"\u001b[39m\n\u001b[0;32m      3\u001b[0m \u001b[38;5;28mprint\u001b[39m(IMAGE_PATH)\n\u001b[1;32m----> 4\u001b[0m img \u001b[38;5;241m=\u001b[39m \u001b[43mcv2\u001b[49m\u001b[38;5;241;43m.\u001b[39;49m\u001b[43mcvtColor\u001b[49m\u001b[43m(\u001b[49m\u001b[43mcv2\u001b[49m\u001b[38;5;241;43m.\u001b[39;49m\u001b[43mimread\u001b[49m\u001b[43m(\u001b[49m\u001b[43mIMAGE_PATH\u001b[49m\u001b[43m)\u001b[49m\u001b[43m,\u001b[49m\u001b[43m \u001b[49m\u001b[43mcv2\u001b[49m\u001b[38;5;241;43m.\u001b[39;49m\u001b[43mCOLOR_BGR2RGB\u001b[49m\u001b[43m)\u001b[49m\n\u001b[0;32m      5\u001b[0m image_np \u001b[38;5;241m=\u001b[39m np\u001b[38;5;241m.\u001b[39marray(img)\n\u001b[0;32m      6\u001b[0m plt\u001b[38;5;241m.\u001b[39mimshow(image_np)\n",
      "\u001b[1;31merror\u001b[0m: OpenCV(4.5.5) D:\\a\\opencv-python\\opencv-python\\opencv\\modules\\imgproc\\src\\color.cpp:182: error: (-215:Assertion failed) !_src.empty() in function 'cv::cvtColor'\n"
     ]
    }
   ],
   "source": [
    "# IMAGE_PATH = random.choice(test_images)\n",
    "IMAGE_PATH = r\"C:\\Users\\USER\\Desktop\\Cyber\\PRJ\\1.jpg\"\n",
    "print(IMAGE_PATH)\n",
    "img = cv2.cvtColor(cv2.imread(IMAGE_PATH), cv2.COLOR_BGR2RGB)\n",
    "image_np = np.array(img)\n",
    "plt.imshow(image_np)\n",
    "plt.show()"
   ]
  },
  {
   "cell_type": "code",
   "execution_count": 4,
   "metadata": {},
   "outputs": [
    {
     "ename": "NameError",
     "evalue": "name 'image_np' is not defined",
     "output_type": "error",
     "traceback": [
      "\u001b[1;31m---------------------------------------------------------------------------\u001b[0m",
      "\u001b[1;31mNameError\u001b[0m                                 Traceback (most recent call last)",
      "Input \u001b[1;32mIn [4]\u001b[0m, in \u001b[0;36m<module>\u001b[1;34m\u001b[0m\n\u001b[0;32m      1\u001b[0m \u001b[38;5;66;03m#@title\u001b[39;00m\n\u001b[1;32m----> 2\u001b[0m input_tensor \u001b[38;5;241m=\u001b[39m tf\u001b[38;5;241m.\u001b[39mconvert_to_tensor(\u001b[43mimage_np\u001b[49m)\n\u001b[0;32m      3\u001b[0m \u001b[38;5;66;03m# The model expects a batch of images, so add an axis with `tf.newaxis`\u001b[39;00m\n\u001b[0;32m      4\u001b[0m input_tensor \u001b[38;5;241m=\u001b[39m input_tensor[tf\u001b[38;5;241m.\u001b[39mnewaxis,\u001b[38;5;241m.\u001b[39m\u001b[38;5;241m.\u001b[39m\u001b[38;5;241m.\u001b[39m]\n",
      "\u001b[1;31mNameError\u001b[0m: name 'image_np' is not defined"
     ]
    }
   ],
   "source": [
    "#@title\n",
    "input_tensor = tf.convert_to_tensor(image_np)\n",
    "# The model expects a batch of images, so add an axis with `tf.newaxis`\n",
    "input_tensor = input_tensor[tf.newaxis,...]\n",
    "detections = detect_fn(input_tensor)\n",
    "\n",
    "num_detections = int(detections.pop('num_detections'))\n",
    "detections = {key: value[0, :num_detections].numpy()\n",
    "              for key, value in detections.items()}\n",
    "detections['num_detections'] = num_detections\n",
    "\n",
    "# detection_classes should be ints.\n",
    "detections['detection_classes'] = detections['detection_classes'].astype(np.int64)\n",
    "\n",
    "# detections['detection_boxes'][:,0] = detections['detection_boxes'][:,0] * image_np.shape[0]\n",
    "# detections['detection_boxes'][:,1] = detections['detection_boxes'][:,1] * image_np.shape[1]\n",
    "# detections['detection_boxes'][:,2] = detections['detection_boxes'][:,2] * image_np.shape[0]\n",
    "# detections['detection_boxes'][:,3] = detections['detection_boxes'][:,3] * image_np.shape[1]\n",
    "\n",
    "label_id_offset = 0\n",
    "image_np_with_detections = image_np.copy()\n",
    "\n",
    "viz_utils.visualize_boxes_and_labels_on_image_array(\n",
    "            image_np_with_detections,\n",
    "            detections['detection_boxes'],\n",
    "            detections['detection_classes']+label_id_offset,\n",
    "            detections['detection_scores'],\n",
    "            category_index,\n",
    "            use_normalized_coordinates=True,\n",
    "            max_boxes_to_draw=5,\n",
    "            min_score_thresh=0.5,\n",
    "            agnostic_mode=False)\n",
    "\n",
    "plt.imshow(image_np_with_detections)\n",
    "plt.show()"
   ]
  },
  {
   "cell_type": "markdown",
   "metadata": {},
   "source": [
    "-------------------------------------"
   ]
  },
  {
   "cell_type": "code",
   "execution_count": 5,
   "metadata": {},
   "outputs": [],
   "source": [
    "cap = cv2.VideoCapture(0)\n",
    "WIDTH_WEBCAM = int(cap.get(cv2.CAP_PROP_FRAME_WIDTH))\n",
    "HEIGHT_WEBCAM = int(cap.get(cv2.CAP_PROP_FRAME_HEIGHT))\n",
    "\n",
    "\n",
    "while cap.isOpened(): \n",
    "    ret, frame = cap.read()\n",
    "    frame_np = np.array(frame)\n",
    "    \n",
    "    input_tensor = tf.convert_to_tensor(frame_np)\n",
    "    # The model expects a batch of images, so add an axis with `tf.newaxis`\n",
    "    input_tensor = input_tensor[tf.newaxis,...]\n",
    "    detections = detect_fn(input_tensor)\n",
    "\n",
    "    num_detections = int(detections.pop('num_detections'))\n",
    "    detections = {key: value[0, :num_detections].numpy()\n",
    "                for key, value in detections.items()}\n",
    "    detections['num_detections'] = num_detections\n",
    "\n",
    "    # detection_classes should be ints.\n",
    "    detections['detection_classes'] = detections['detection_classes'].astype(np.int64)\n",
    "\n",
    "    # detections['detection_boxes'][:,0] = detections['detection_boxes'][:,0] * image_np.shape[0]\n",
    "    # detections['detection_boxes'][:,1] = detections['detection_boxes'][:,1] * image_np.shape[1]\n",
    "    # detections['detection_boxes'][:,2] = detections['detection_boxes'][:,2] * image_np.shape[0]\n",
    "    # detections['detection_boxes'][:,3] = detections['detection_boxes'][:,3] * image_np.shape[1]\n",
    "\n",
    "    label_id_offset = 0\n",
    "    frame_np_with_detections = frame_np.copy()\n",
    "\n",
    "    viz_utils.visualize_boxes_and_labels_on_image_array(\n",
    "                frame_np_with_detections,\n",
    "                detections['detection_boxes'],\n",
    "                detections['detection_classes']+label_id_offset,\n",
    "                detections['detection_scores'],\n",
    "                category_index,\n",
    "                use_normalized_coordinates=True,\n",
    "                max_boxes_to_draw=5,\n",
    "                min_score_thresh=0.5,\n",
    "                agnostic_mode=False)\n",
    "\n",
    "    cv2.imshow('object detection',  cv2.resize(frame_np_with_detections, (WIDTH_WEBCAM, HEIGHT_WEBCAM)))\n",
    "    if cv2.waitKey(10) & 0xFF == ord('q'):\n",
    "        cap.release()\n",
    "        cv2.destroyAllWindows()\n",
    "        break"
   ]
  },
  {
   "cell_type": "markdown",
   "metadata": {},
   "source": [
    "-------------------------------"
   ]
  }
 ],
 "metadata": {
  "interpreter": {
   "hash": "0954d1d7a38278ae744f0a8e5c4fdb54e0d4c091f7af0e17a337646a9c18fc37"
  },
  "kernelspec": {
   "display_name": "Python 3.9.7 64-bit ('.venv': venv)",
   "language": "python",
   "name": "python3"
  },
  "language_info": {
   "codemirror_mode": {
    "name": "ipython",
    "version": 3
   },
   "file_extension": ".py",
   "mimetype": "text/x-python",
   "name": "python",
   "nbconvert_exporter": "python",
   "pygments_lexer": "ipython3",
   "version": "3.9.7"
  },
  "orig_nbformat": 4
 },
 "nbformat": 4,
 "nbformat_minor": 2
}
